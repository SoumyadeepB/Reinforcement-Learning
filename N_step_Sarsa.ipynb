{
  "nbformat": 4,
  "nbformat_minor": 0,
  "metadata": {
    "colab": {
      "name": "N_step_Sarsa.ipynb",
      "provenance": [],
      "collapsed_sections": [],
      "authorship_tag": "ABX9TyN0BKQvMXSRtFPSUqxoTbQQ",
      "include_colab_link": true
    },
    "kernelspec": {
      "name": "python3",
      "display_name": "Python 3"
    },
    "accelerator": "GPU"
  },
  "cells": [
    {
      "cell_type": "markdown",
      "metadata": {
        "id": "view-in-github",
        "colab_type": "text"
      },
      "source": [
        "<a href=\"https://colab.research.google.com/github/SoumyadeepB/Reinforcement-Learning/blob/master/N_step_Sarsa.ipynb\" target=\"_parent\"><img src=\"https://colab.research.google.com/assets/colab-badge.svg\" alt=\"Open In Colab\"/></a>"
      ]
    },
    {
      "cell_type": "code",
      "metadata": {
        "id": "ESVJWdAgbBV0",
        "colab_type": "code",
        "colab": {}
      },
      "source": [
        "import gym\n",
        "import numpy as np\n",
        "import matplotlib.pyplot as plt\n",
        "from tqdm import tqdm\n",
        "%matplotlib inline\n"
      ],
      "execution_count": 0,
      "outputs": []
    },
    {
      "cell_type": "code",
      "metadata": {
        "id": "hYZAcrYIbJKE",
        "colab_type": "code",
        "colab": {}
      },
      "source": [
        "def nstep_sarsa(env, n=1, alpha=0.1, gamma=0.9, epsilon=0.1, num_ep=int(1e4)):\n",
        "\n",
        "    \"\"\" TODO: implement the n-step sarsa algorithm \"\"\"\n",
        "    \n",
        "    total_episode_length = 0\n",
        "    for ep in tqdm(range(num_ep)):      \n",
        "      state = env.reset()\n",
        "      obs = env.reset()\n",
        "      n_states = env.observation_space.n\n",
        "      n_actions = env.action_space.n\n",
        "      Q = np.random.rand(n_states,n_actions)   # Initializing random Q values for each (s,a)\n",
        "      policy = np.argmax(Q,axis=1)          # Greedy policy based on the Q(s,a)     \n",
        "\n",
        "      done = False\n",
        "      t = 0\n",
        "      tau = 0\n",
        "      G=0\n",
        "      T = np.inf\n",
        "\n",
        "      states = [0]\n",
        "      actions = [policy[0]]\n",
        "      rewards = [0]\n",
        "      \n",
        "      while not done:\n",
        "        if t < T:\n",
        "          #curr_state = states[t]\n",
        "          A = actions[t]   # take action A_t\n",
        "          S , R , done , _ =  env.step(A)\n",
        "          states.append(S)\n",
        "          actions.append(A)\n",
        "          rewards.append(R)\n",
        "\n",
        "          if done:\n",
        "            T = t+1\n",
        "          else:\n",
        "            actions.append(policy[S])  # action corresponding to current state S\n",
        "\n",
        "        tau = t - n + 1\n",
        "        if tau >= 0:\n",
        "          for i in range(tau+1,min((tau+n,T))):\n",
        "            R_i = rewards[i]\n",
        "            G += ((gamma ** (i-tau-1)) * R_i)\n",
        "          \n",
        "          if (tau+n) < T:\n",
        "            G = G + (gamma**n) * Q[states[tau+n], actions[tau+n]]\n",
        "\n",
        "          Q[states[tau],actions[tau]] += alpha * (G - Q[states[tau], actions[tau]])\n",
        "          policy = np.argmax(Q,axis=1) #Update Policy (Greedy)\n",
        "\n",
        "        t += 1\n",
        "\n",
        "      \n",
        "      total_episode_length += t\n",
        "        \n",
        "    avg_ep_length = (total_episode_length/num_ep) \n",
        "    print(\"N=\",n,\" alpha= {:.2f}\".format(alpha),\" Episode_length=\",avg_ep_length)\n",
        "    return avg_ep_length\n"
      ],
      "execution_count": 0,
      "outputs": []
    },
    {
      "cell_type": "code",
      "metadata": {
        "id": "znoTBe_HB9fn",
        "colab_type": "code",
        "outputId": "7e30ff7e-26f3-4a8b-9bcc-fb7897fa6477",
        "colab": {
          "base_uri": "https://localhost:8080/",
          "height": 1000
        }
      },
      "source": [
        "env=gym.make('FrozenLake-v0', map_name=\"8x8\")\n",
        "# TODO: run multiple times, evaluate the performance for different n and alpha\n",
        "alphas = np.linspace(0.1,1,10)\n",
        "lst = []\n",
        "for n in range(10):\n",
        "  for alpha in alphas:\n",
        "    avg_ep_length = nstep_sarsa(env, n=n, alpha=alpha)\n",
        "    lst.append((n,alpha,avg_ep_length))"
      ],
      "execution_count": 18,
      "outputs": [
        {
          "output_type": "stream",
          "text": [
            "100%|██████████| 10000/10000 [00:07<00:00, 1308.67it/s]\n",
            "  1%|▏         | 138/10000 [00:00<00:07, 1357.53it/s]"
          ],
          "name": "stderr"
        },
        {
          "output_type": "stream",
          "text": [
            "N= 0  alpha= 0.10  Episode_length= 45.1177\n"
          ],
          "name": "stdout"
        },
        {
          "output_type": "stream",
          "text": [
            "100%|██████████| 10000/10000 [00:07<00:00, 1331.05it/s]\n",
            "  1%|▏         | 139/10000 [00:00<00:07, 1388.89it/s]"
          ],
          "name": "stderr"
        },
        {
          "output_type": "stream",
          "text": [
            "N= 0  alpha= 0.20  Episode_length= 44.8629\n"
          ],
          "name": "stdout"
        },
        {
          "output_type": "stream",
          "text": [
            "100%|██████████| 10000/10000 [00:07<00:00, 1280.41it/s]\n",
            "  1%|▏         | 127/10000 [00:00<00:07, 1259.19it/s]"
          ],
          "name": "stderr"
        },
        {
          "output_type": "stream",
          "text": [
            "N= 0  alpha= 0.30  Episode_length= 45.6425\n"
          ],
          "name": "stdout"
        },
        {
          "output_type": "stream",
          "text": [
            "100%|██████████| 10000/10000 [00:07<00:00, 1267.97it/s]\n",
            "  1%|▏         | 130/10000 [00:00<00:07, 1298.16it/s]"
          ],
          "name": "stderr"
        },
        {
          "output_type": "stream",
          "text": [
            "N= 0  alpha= 0.40  Episode_length= 46.0691\n"
          ],
          "name": "stdout"
        },
        {
          "output_type": "stream",
          "text": [
            "100%|██████████| 10000/10000 [00:07<00:00, 1274.09it/s]\n",
            "  1%|▏         | 138/10000 [00:00<00:07, 1365.44it/s]"
          ],
          "name": "stderr"
        },
        {
          "output_type": "stream",
          "text": [
            "N= 0  alpha= 0.50  Episode_length= 45.5509\n"
          ],
          "name": "stdout"
        },
        {
          "output_type": "stream",
          "text": [
            "100%|██████████| 10000/10000 [00:07<00:00, 1297.33it/s]\n",
            "  1%|          | 109/10000 [00:00<00:09, 1079.94it/s]"
          ],
          "name": "stderr"
        },
        {
          "output_type": "stream",
          "text": [
            "N= 0  alpha= 0.60  Episode_length= 45.3665\n"
          ],
          "name": "stdout"
        },
        {
          "output_type": "stream",
          "text": [
            "100%|██████████| 10000/10000 [00:08<00:00, 1236.93it/s]\n",
            "  1%|▏         | 136/10000 [00:00<00:07, 1359.31it/s]"
          ],
          "name": "stderr"
        },
        {
          "output_type": "stream",
          "text": [
            "N= 0  alpha= 0.70  Episode_length= 45.7615\n"
          ],
          "name": "stdout"
        },
        {
          "output_type": "stream",
          "text": [
            "100%|██████████| 10000/10000 [00:07<00:00, 1263.03it/s]\n",
            "  1%|▏         | 130/10000 [00:00<00:07, 1299.88it/s]"
          ],
          "name": "stderr"
        },
        {
          "output_type": "stream",
          "text": [
            "N= 0  alpha= 0.80  Episode_length= 45.6774\n"
          ],
          "name": "stdout"
        },
        {
          "output_type": "stream",
          "text": [
            "100%|██████████| 10000/10000 [00:07<00:00, 1271.12it/s]\n",
            "  1%|▏         | 137/10000 [00:00<00:07, 1353.30it/s]"
          ],
          "name": "stderr"
        },
        {
          "output_type": "stream",
          "text": [
            "N= 0  alpha= 0.90  Episode_length= 45.732\n"
          ],
          "name": "stdout"
        },
        {
          "output_type": "stream",
          "text": [
            "100%|██████████| 10000/10000 [00:07<00:00, 1275.22it/s]\n",
            "  1%|          | 122/10000 [00:00<00:08, 1212.89it/s]"
          ],
          "name": "stderr"
        },
        {
          "output_type": "stream",
          "text": [
            "N= 0  alpha= 1.00  Episode_length= 44.4616\n"
          ],
          "name": "stdout"
        },
        {
          "output_type": "stream",
          "text": [
            "100%|██████████| 10000/10000 [00:07<00:00, 1312.17it/s]\n",
            "  1%|▏         | 132/10000 [00:00<00:07, 1317.84it/s]"
          ],
          "name": "stderr"
        },
        {
          "output_type": "stream",
          "text": [
            "N= 1  alpha= 0.10  Episode_length= 43.2294\n"
          ],
          "name": "stdout"
        },
        {
          "output_type": "stream",
          "text": [
            "100%|██████████| 10000/10000 [00:07<00:00, 1345.69it/s]\n",
            "  1%|          | 117/10000 [00:00<00:08, 1165.18it/s]"
          ],
          "name": "stderr"
        },
        {
          "output_type": "stream",
          "text": [
            "N= 1  alpha= 0.20  Episode_length= 44.0963\n"
          ],
          "name": "stdout"
        },
        {
          "output_type": "stream",
          "text": [
            "100%|██████████| 10000/10000 [00:07<00:00, 1376.89it/s]\n",
            "  1%|▏         | 135/10000 [00:00<00:07, 1336.53it/s]"
          ],
          "name": "stderr"
        },
        {
          "output_type": "stream",
          "text": [
            "N= 1  alpha= 0.30  Episode_length= 43.2685\n"
          ],
          "name": "stdout"
        },
        {
          "output_type": "stream",
          "text": [
            "100%|██████████| 10000/10000 [00:07<00:00, 1386.11it/s]\n",
            "  1%|▏         | 144/10000 [00:00<00:06, 1432.59it/s]"
          ],
          "name": "stderr"
        },
        {
          "output_type": "stream",
          "text": [
            "N= 1  alpha= 0.40  Episode_length= 42.9636\n"
          ],
          "name": "stdout"
        },
        {
          "output_type": "stream",
          "text": [
            "100%|██████████| 10000/10000 [00:07<00:00, 1373.39it/s]\n",
            "  2%|▏         | 151/10000 [00:00<00:06, 1508.00it/s]"
          ],
          "name": "stderr"
        },
        {
          "output_type": "stream",
          "text": [
            "N= 1  alpha= 0.50  Episode_length= 42.9745\n"
          ],
          "name": "stdout"
        },
        {
          "output_type": "stream",
          "text": [
            "100%|██████████| 10000/10000 [00:07<00:00, 1401.78it/s]\n",
            "  1%|▏         | 125/10000 [00:00<00:07, 1249.20it/s]"
          ],
          "name": "stderr"
        },
        {
          "output_type": "stream",
          "text": [
            "N= 1  alpha= 0.60  Episode_length= 42.5416\n"
          ],
          "name": "stdout"
        },
        {
          "output_type": "stream",
          "text": [
            "100%|██████████| 10000/10000 [00:07<00:00, 1378.78it/s]\n",
            "  2%|▏         | 157/10000 [00:00<00:06, 1568.54it/s]"
          ],
          "name": "stderr"
        },
        {
          "output_type": "stream",
          "text": [
            "N= 1  alpha= 0.70  Episode_length= 42.4762\n"
          ],
          "name": "stdout"
        },
        {
          "output_type": "stream",
          "text": [
            "100%|██████████| 10000/10000 [00:07<00:00, 1397.51it/s]\n",
            "  1%|▏         | 149/10000 [00:00<00:06, 1486.37it/s]"
          ],
          "name": "stderr"
        },
        {
          "output_type": "stream",
          "text": [
            "N= 1  alpha= 0.80  Episode_length= 42.2021\n"
          ],
          "name": "stdout"
        },
        {
          "output_type": "stream",
          "text": [
            "100%|██████████| 10000/10000 [00:07<00:00, 1392.31it/s]\n",
            "  1%|▏         | 144/10000 [00:00<00:06, 1435.44it/s]"
          ],
          "name": "stderr"
        },
        {
          "output_type": "stream",
          "text": [
            "N= 1  alpha= 0.90  Episode_length= 42.048\n"
          ],
          "name": "stdout"
        },
        {
          "output_type": "stream",
          "text": [
            "100%|██████████| 10000/10000 [00:06<00:00, 1436.23it/s]\n",
            "  1%|▏         | 130/10000 [00:00<00:07, 1297.28it/s]"
          ],
          "name": "stderr"
        },
        {
          "output_type": "stream",
          "text": [
            "N= 1  alpha= 1.00  Episode_length= 41.3247\n"
          ],
          "name": "stdout"
        },
        {
          "output_type": "stream",
          "text": [
            "100%|██████████| 10000/10000 [00:07<00:00, 1305.98it/s]\n",
            "  1%|          | 119/10000 [00:00<00:08, 1172.06it/s]"
          ],
          "name": "stderr"
        },
        {
          "output_type": "stream",
          "text": [
            "N= 2  alpha= 0.10  Episode_length= 42.7431\n"
          ],
          "name": "stdout"
        },
        {
          "output_type": "stream",
          "text": [
            "100%|██████████| 10000/10000 [00:07<00:00, 1320.62it/s]\n",
            "  1%|▏         | 141/10000 [00:00<00:07, 1407.11it/s]"
          ],
          "name": "stderr"
        },
        {
          "output_type": "stream",
          "text": [
            "N= 2  alpha= 0.20  Episode_length= 42.6051\n"
          ],
          "name": "stdout"
        },
        {
          "output_type": "stream",
          "text": [
            "100%|██████████| 10000/10000 [00:07<00:00, 1357.67it/s]\n",
            "  1%|▏         | 149/10000 [00:00<00:06, 1480.78it/s]"
          ],
          "name": "stderr"
        },
        {
          "output_type": "stream",
          "text": [
            "N= 2  alpha= 0.30  Episode_length= 42.3204\n"
          ],
          "name": "stdout"
        },
        {
          "output_type": "stream",
          "text": [
            "100%|██████████| 10000/10000 [00:07<00:00, 1372.27it/s]\n",
            "  2%|▏         | 160/10000 [00:00<00:06, 1596.89it/s]"
          ],
          "name": "stderr"
        },
        {
          "output_type": "stream",
          "text": [
            "N= 2  alpha= 0.40  Episode_length= 41.7345\n"
          ],
          "name": "stdout"
        },
        {
          "output_type": "stream",
          "text": [
            "100%|██████████| 10000/10000 [00:07<00:00, 1356.59it/s]\n",
            "  2%|▏         | 152/10000 [00:00<00:06, 1514.67it/s]"
          ],
          "name": "stderr"
        },
        {
          "output_type": "stream",
          "text": [
            "N= 2  alpha= 0.50  Episode_length= 42.0899\n"
          ],
          "name": "stdout"
        },
        {
          "output_type": "stream",
          "text": [
            "100%|██████████| 10000/10000 [00:07<00:00, 1386.56it/s]\n",
            "  1%|▏         | 145/10000 [00:00<00:06, 1446.65it/s]"
          ],
          "name": "stderr"
        },
        {
          "output_type": "stream",
          "text": [
            "N= 2  alpha= 0.60  Episode_length= 41.4997\n"
          ],
          "name": "stdout"
        },
        {
          "output_type": "stream",
          "text": [
            "100%|██████████| 10000/10000 [00:07<00:00, 1357.43it/s]\n",
            "  2%|▏         | 151/10000 [00:00<00:06, 1493.08it/s]"
          ],
          "name": "stderr"
        },
        {
          "output_type": "stream",
          "text": [
            "N= 2  alpha= 0.70  Episode_length= 41.9098\n"
          ],
          "name": "stdout"
        },
        {
          "output_type": "stream",
          "text": [
            "100%|██████████| 10000/10000 [00:07<00:00, 1391.95it/s]\n",
            "  2%|▏         | 150/10000 [00:00<00:06, 1488.71it/s]"
          ],
          "name": "stderr"
        },
        {
          "output_type": "stream",
          "text": [
            "N= 2  alpha= 0.80  Episode_length= 40.9591\n"
          ],
          "name": "stdout"
        },
        {
          "output_type": "stream",
          "text": [
            "100%|██████████| 10000/10000 [00:07<00:00, 1387.24it/s]\n",
            "  2%|▏         | 165/10000 [00:00<00:05, 1642.47it/s]"
          ],
          "name": "stderr"
        },
        {
          "output_type": "stream",
          "text": [
            "N= 2  alpha= 0.90  Episode_length= 41.1181\n"
          ],
          "name": "stdout"
        },
        {
          "output_type": "stream",
          "text": [
            "100%|██████████| 10000/10000 [00:06<00:00, 1434.58it/s]\n",
            "  2%|▏         | 163/10000 [00:00<00:06, 1623.17it/s]"
          ],
          "name": "stderr"
        },
        {
          "output_type": "stream",
          "text": [
            "N= 2  alpha= 1.00  Episode_length= 40.1534\n"
          ],
          "name": "stdout"
        },
        {
          "output_type": "stream",
          "text": [
            "100%|██████████| 10000/10000 [00:07<00:00, 1337.89it/s]\n",
            "  1%|▏         | 139/10000 [00:00<00:07, 1372.14it/s]"
          ],
          "name": "stderr"
        },
        {
          "output_type": "stream",
          "text": [
            "N= 3  alpha= 0.10  Episode_length= 42.0329\n"
          ],
          "name": "stdout"
        },
        {
          "output_type": "stream",
          "text": [
            "100%|██████████| 10000/10000 [00:07<00:00, 1303.39it/s]\n",
            "  1%|▏         | 134/10000 [00:00<00:07, 1333.93it/s]"
          ],
          "name": "stderr"
        },
        {
          "output_type": "stream",
          "text": [
            "N= 3  alpha= 0.20  Episode_length= 42.142\n"
          ],
          "name": "stdout"
        },
        {
          "output_type": "stream",
          "text": [
            "100%|██████████| 10000/10000 [00:07<00:00, 1324.00it/s]\n",
            "  1%|▏         | 126/10000 [00:00<00:07, 1258.29it/s]"
          ],
          "name": "stderr"
        },
        {
          "output_type": "stream",
          "text": [
            "N= 3  alpha= 0.30  Episode_length= 41.0763\n"
          ],
          "name": "stdout"
        },
        {
          "output_type": "stream",
          "text": [
            "100%|██████████| 10000/10000 [00:07<00:00, 1344.96it/s]\n",
            "  1%|          | 124/10000 [00:00<00:08, 1227.30it/s]"
          ],
          "name": "stderr"
        },
        {
          "output_type": "stream",
          "text": [
            "N= 3  alpha= 0.40  Episode_length= 41.5221\n"
          ],
          "name": "stdout"
        },
        {
          "output_type": "stream",
          "text": [
            "100%|██████████| 10000/10000 [00:07<00:00, 1356.83it/s]\n",
            "  1%|▏         | 132/10000 [00:00<00:07, 1319.24it/s]"
          ],
          "name": "stderr"
        },
        {
          "output_type": "stream",
          "text": [
            "N= 3  alpha= 0.50  Episode_length= 41.0355\n"
          ],
          "name": "stdout"
        },
        {
          "output_type": "stream",
          "text": [
            "100%|██████████| 10000/10000 [00:07<00:00, 1357.28it/s]\n",
            "  2%|▏         | 150/10000 [00:00<00:06, 1498.83it/s]"
          ],
          "name": "stderr"
        },
        {
          "output_type": "stream",
          "text": [
            "N= 3  alpha= 0.60  Episode_length= 41.0817\n"
          ],
          "name": "stdout"
        },
        {
          "output_type": "stream",
          "text": [
            "100%|██████████| 10000/10000 [00:07<00:00, 1352.38it/s]\n",
            "  1%|▏         | 138/10000 [00:00<00:07, 1367.65it/s]"
          ],
          "name": "stderr"
        },
        {
          "output_type": "stream",
          "text": [
            "N= 3  alpha= 0.70  Episode_length= 41.3425\n"
          ],
          "name": "stdout"
        },
        {
          "output_type": "stream",
          "text": [
            "100%|██████████| 10000/10000 [00:07<00:00, 1353.34it/s]\n",
            "  1%|▏         | 140/10000 [00:00<00:07, 1386.42it/s]"
          ],
          "name": "stderr"
        },
        {
          "output_type": "stream",
          "text": [
            "N= 3  alpha= 0.80  Episode_length= 40.9415\n"
          ],
          "name": "stdout"
        },
        {
          "output_type": "stream",
          "text": [
            "100%|██████████| 10000/10000 [00:07<00:00, 1376.51it/s]\n",
            "  1%|▏         | 144/10000 [00:00<00:06, 1428.17it/s]"
          ],
          "name": "stderr"
        },
        {
          "output_type": "stream",
          "text": [
            "N= 3  alpha= 0.90  Episode_length= 40.7826\n"
          ],
          "name": "stdout"
        },
        {
          "output_type": "stream",
          "text": [
            "100%|██████████| 10000/10000 [00:07<00:00, 1399.55it/s]\n",
            "  1%|▏         | 132/10000 [00:00<00:07, 1317.22it/s]"
          ],
          "name": "stderr"
        },
        {
          "output_type": "stream",
          "text": [
            "N= 3  alpha= 1.00  Episode_length= 40.2259\n"
          ],
          "name": "stdout"
        },
        {
          "output_type": "stream",
          "text": [
            "100%|██████████| 10000/10000 [00:07<00:00, 1343.50it/s]\n",
            "  2%|▏         | 155/10000 [00:00<00:06, 1544.54it/s]"
          ],
          "name": "stderr"
        },
        {
          "output_type": "stream",
          "text": [
            "N= 4  alpha= 0.10  Episode_length= 41.5889\n"
          ],
          "name": "stdout"
        },
        {
          "output_type": "stream",
          "text": [
            "100%|██████████| 10000/10000 [00:07<00:00, 1339.50it/s]\n",
            "  1%|▏         | 147/10000 [00:00<00:06, 1464.72it/s]"
          ],
          "name": "stderr"
        },
        {
          "output_type": "stream",
          "text": [
            "N= 4  alpha= 0.20  Episode_length= 41.5766\n"
          ],
          "name": "stdout"
        },
        {
          "output_type": "stream",
          "text": [
            "100%|██████████| 10000/10000 [00:07<00:00, 1324.09it/s]\n",
            "  3%|▎         | 303/10000 [00:00<00:06, 1485.08it/s]"
          ],
          "name": "stderr"
        },
        {
          "output_type": "stream",
          "text": [
            "N= 4  alpha= 0.30  Episode_length= 40.9698\n"
          ],
          "name": "stdout"
        },
        {
          "output_type": "stream",
          "text": [
            "100%|██████████| 10000/10000 [00:07<00:00, 1337.04it/s]\n",
            "  2%|▏         | 155/10000 [00:00<00:06, 1527.37it/s]"
          ],
          "name": "stderr"
        },
        {
          "output_type": "stream",
          "text": [
            "N= 4  alpha= 0.40  Episode_length= 41.2502\n"
          ],
          "name": "stdout"
        },
        {
          "output_type": "stream",
          "text": [
            "100%|██████████| 10000/10000 [00:07<00:00, 1379.08it/s]\n",
            "  2%|▏         | 156/10000 [00:00<00:06, 1555.48it/s]"
          ],
          "name": "stderr"
        },
        {
          "output_type": "stream",
          "text": [
            "N= 4  alpha= 0.50  Episode_length= 40.3317\n"
          ],
          "name": "stdout"
        },
        {
          "output_type": "stream",
          "text": [
            "100%|██████████| 10000/10000 [00:07<00:00, 1384.32it/s]\n",
            "  1%|▏         | 130/10000 [00:00<00:07, 1294.37it/s]"
          ],
          "name": "stderr"
        },
        {
          "output_type": "stream",
          "text": [
            "N= 4  alpha= 0.60  Episode_length= 40.5324\n"
          ],
          "name": "stdout"
        },
        {
          "output_type": "stream",
          "text": [
            "100%|██████████| 10000/10000 [00:07<00:00, 1366.33it/s]\n",
            "  1%|▏         | 131/10000 [00:00<00:07, 1302.95it/s]"
          ],
          "name": "stderr"
        },
        {
          "output_type": "stream",
          "text": [
            "N= 4  alpha= 0.70  Episode_length= 40.6627\n"
          ],
          "name": "stdout"
        },
        {
          "output_type": "stream",
          "text": [
            "100%|██████████| 10000/10000 [00:07<00:00, 1351.51it/s]\n",
            "  1%|▏         | 139/10000 [00:00<00:07, 1383.05it/s]"
          ],
          "name": "stderr"
        },
        {
          "output_type": "stream",
          "text": [
            "N= 4  alpha= 0.80  Episode_length= 41.1174\n"
          ],
          "name": "stdout"
        },
        {
          "output_type": "stream",
          "text": [
            "100%|██████████| 10000/10000 [00:07<00:00, 1379.02it/s]\n",
            "  1%|▏         | 145/10000 [00:00<00:06, 1444.89it/s]"
          ],
          "name": "stderr"
        },
        {
          "output_type": "stream",
          "text": [
            "N= 4  alpha= 0.90  Episode_length= 40.2583\n"
          ],
          "name": "stdout"
        },
        {
          "output_type": "stream",
          "text": [
            "100%|██████████| 10000/10000 [00:07<00:00, 1380.66it/s]\n",
            "  1%|          | 124/10000 [00:00<00:07, 1238.17it/s]"
          ],
          "name": "stderr"
        },
        {
          "output_type": "stream",
          "text": [
            "N= 4  alpha= 1.00  Episode_length= 40.3383\n"
          ],
          "name": "stdout"
        },
        {
          "output_type": "stream",
          "text": [
            "100%|██████████| 10000/10000 [00:07<00:00, 1335.08it/s]\n",
            "  1%|▏         | 131/10000 [00:00<00:07, 1284.39it/s]"
          ],
          "name": "stderr"
        },
        {
          "output_type": "stream",
          "text": [
            "N= 5  alpha= 0.10  Episode_length= 41.6179\n"
          ],
          "name": "stdout"
        },
        {
          "output_type": "stream",
          "text": [
            "100%|██████████| 10000/10000 [00:07<00:00, 1368.60it/s]\n",
            "  1%|▏         | 127/10000 [00:00<00:07, 1266.21it/s]"
          ],
          "name": "stderr"
        },
        {
          "output_type": "stream",
          "text": [
            "N= 5  alpha= 0.20  Episode_length= 40.6242\n"
          ],
          "name": "stdout"
        },
        {
          "output_type": "stream",
          "text": [
            "100%|██████████| 10000/10000 [00:07<00:00, 1359.24it/s]\n",
            "  2%|▏         | 150/10000 [00:00<00:06, 1499.33it/s]"
          ],
          "name": "stderr"
        },
        {
          "output_type": "stream",
          "text": [
            "N= 5  alpha= 0.30  Episode_length= 40.5065\n"
          ],
          "name": "stdout"
        },
        {
          "output_type": "stream",
          "text": [
            "100%|██████████| 10000/10000 [00:07<00:00, 1325.31it/s]\n",
            "  1%|▏         | 130/10000 [00:00<00:07, 1287.54it/s]"
          ],
          "name": "stderr"
        },
        {
          "output_type": "stream",
          "text": [
            "N= 5  alpha= 0.40  Episode_length= 40.5956\n"
          ],
          "name": "stdout"
        },
        {
          "output_type": "stream",
          "text": [
            "100%|██████████| 10000/10000 [00:07<00:00, 1358.37it/s]\n",
            "  2%|▏         | 155/10000 [00:00<00:06, 1543.44it/s]"
          ],
          "name": "stderr"
        },
        {
          "output_type": "stream",
          "text": [
            "N= 5  alpha= 0.50  Episode_length= 40.5168\n"
          ],
          "name": "stdout"
        },
        {
          "output_type": "stream",
          "text": [
            "100%|██████████| 10000/10000 [00:07<00:00, 1392.44it/s]\n",
            "  2%|▏         | 176/10000 [00:00<00:05, 1744.79it/s]"
          ],
          "name": "stderr"
        },
        {
          "output_type": "stream",
          "text": [
            "N= 5  alpha= 0.60  Episode_length= 40.0648\n"
          ],
          "name": "stdout"
        },
        {
          "output_type": "stream",
          "text": [
            "100%|██████████| 10000/10000 [00:07<00:00, 1370.33it/s]\n",
            "  1%|▏         | 142/10000 [00:00<00:07, 1398.96it/s]"
          ],
          "name": "stderr"
        },
        {
          "output_type": "stream",
          "text": [
            "N= 5  alpha= 0.70  Episode_length= 40.5816\n"
          ],
          "name": "stdout"
        },
        {
          "output_type": "stream",
          "text": [
            "100%|██████████| 10000/10000 [00:07<00:00, 1392.33it/s]\n",
            "  2%|▏         | 167/10000 [00:00<00:05, 1664.31it/s]"
          ],
          "name": "stderr"
        },
        {
          "output_type": "stream",
          "text": [
            "N= 5  alpha= 0.80  Episode_length= 40.2951\n"
          ],
          "name": "stdout"
        },
        {
          "output_type": "stream",
          "text": [
            "100%|██████████| 10000/10000 [00:07<00:00, 1364.67it/s]\n",
            "  3%|▎         | 290/10000 [00:00<00:06, 1415.53it/s]"
          ],
          "name": "stderr"
        },
        {
          "output_type": "stream",
          "text": [
            "N= 5  alpha= 0.90  Episode_length= 40.2332\n"
          ],
          "name": "stdout"
        },
        {
          "output_type": "stream",
          "text": [
            "100%|██████████| 10000/10000 [00:07<00:00, 1359.03it/s]\n",
            "  1%|▏         | 149/10000 [00:00<00:06, 1489.72it/s]"
          ],
          "name": "stderr"
        },
        {
          "output_type": "stream",
          "text": [
            "N= 5  alpha= 1.00  Episode_length= 40.3261\n"
          ],
          "name": "stdout"
        },
        {
          "output_type": "stream",
          "text": [
            "100%|██████████| 10000/10000 [00:07<00:00, 1346.27it/s]\n",
            "  1%|          | 119/10000 [00:00<00:08, 1186.70it/s]"
          ],
          "name": "stderr"
        },
        {
          "output_type": "stream",
          "text": [
            "N= 6  alpha= 0.10  Episode_length= 40.8626\n"
          ],
          "name": "stdout"
        },
        {
          "output_type": "stream",
          "text": [
            "100%|██████████| 10000/10000 [00:07<00:00, 1343.62it/s]\n",
            "  1%|▏         | 143/10000 [00:00<00:06, 1426.05it/s]"
          ],
          "name": "stderr"
        },
        {
          "output_type": "stream",
          "text": [
            "N= 6  alpha= 0.20  Episode_length= 40.8956\n"
          ],
          "name": "stdout"
        },
        {
          "output_type": "stream",
          "text": [
            "100%|██████████| 10000/10000 [00:07<00:00, 1320.15it/s]\n",
            "  2%|▏         | 155/10000 [00:00<00:06, 1548.93it/s]"
          ],
          "name": "stderr"
        },
        {
          "output_type": "stream",
          "text": [
            "N= 6  alpha= 0.30  Episode_length= 40.675\n"
          ],
          "name": "stdout"
        },
        {
          "output_type": "stream",
          "text": [
            "100%|██████████| 10000/10000 [00:07<00:00, 1375.45it/s]\n",
            "  2%|▏         | 160/10000 [00:00<00:06, 1598.81it/s]"
          ],
          "name": "stderr"
        },
        {
          "output_type": "stream",
          "text": [
            "N= 6  alpha= 0.40  Episode_length= 40.3107\n"
          ],
          "name": "stdout"
        },
        {
          "output_type": "stream",
          "text": [
            "100%|██████████| 10000/10000 [00:07<00:00, 1325.02it/s]\n",
            "  2%|▏         | 151/10000 [00:00<00:06, 1508.22it/s]"
          ],
          "name": "stderr"
        },
        {
          "output_type": "stream",
          "text": [
            "N= 6  alpha= 0.50  Episode_length= 40.6264\n"
          ],
          "name": "stdout"
        },
        {
          "output_type": "stream",
          "text": [
            "100%|██████████| 10000/10000 [00:07<00:00, 1347.38it/s]\n",
            "  1%|▏         | 135/10000 [00:00<00:07, 1343.07it/s]"
          ],
          "name": "stderr"
        },
        {
          "output_type": "stream",
          "text": [
            "N= 6  alpha= 0.60  Episode_length= 40.4882\n"
          ],
          "name": "stdout"
        },
        {
          "output_type": "stream",
          "text": [
            "100%|██████████| 10000/10000 [00:07<00:00, 1364.12it/s]\n",
            "  1%|▏         | 140/10000 [00:00<00:07, 1381.35it/s]"
          ],
          "name": "stderr"
        },
        {
          "output_type": "stream",
          "text": [
            "N= 6  alpha= 0.70  Episode_length= 39.8175\n"
          ],
          "name": "stdout"
        },
        {
          "output_type": "stream",
          "text": [
            "100%|██████████| 10000/10000 [00:07<00:00, 1349.87it/s]\n",
            "  2%|▏         | 161/10000 [00:00<00:06, 1603.08it/s]"
          ],
          "name": "stderr"
        },
        {
          "output_type": "stream",
          "text": [
            "N= 6  alpha= 0.80  Episode_length= 40.4377\n"
          ],
          "name": "stdout"
        },
        {
          "output_type": "stream",
          "text": [
            "100%|██████████| 10000/10000 [00:07<00:00, 1377.20it/s]\n",
            "  1%|▏         | 132/10000 [00:00<00:07, 1311.62it/s]"
          ],
          "name": "stderr"
        },
        {
          "output_type": "stream",
          "text": [
            "N= 6  alpha= 0.90  Episode_length= 40.1443\n"
          ],
          "name": "stdout"
        },
        {
          "output_type": "stream",
          "text": [
            "100%|██████████| 10000/10000 [00:07<00:00, 1376.28it/s]\n",
            "  1%|▏         | 141/10000 [00:00<00:07, 1408.30it/s]"
          ],
          "name": "stderr"
        },
        {
          "output_type": "stream",
          "text": [
            "N= 6  alpha= 1.00  Episode_length= 39.7231\n"
          ],
          "name": "stdout"
        },
        {
          "output_type": "stream",
          "text": [
            "100%|██████████| 10000/10000 [00:07<00:00, 1335.34it/s]\n",
            "  1%|          | 117/10000 [00:00<00:08, 1162.79it/s]"
          ],
          "name": "stderr"
        },
        {
          "output_type": "stream",
          "text": [
            "N= 7  alpha= 0.10  Episode_length= 40.7309\n"
          ],
          "name": "stdout"
        },
        {
          "output_type": "stream",
          "text": [
            "100%|██████████| 10000/10000 [00:07<00:00, 1345.43it/s]\n",
            "  1%|▏         | 146/10000 [00:00<00:06, 1458.54it/s]"
          ],
          "name": "stderr"
        },
        {
          "output_type": "stream",
          "text": [
            "N= 7  alpha= 0.20  Episode_length= 40.0556\n"
          ],
          "name": "stdout"
        },
        {
          "output_type": "stream",
          "text": [
            "100%|██████████| 10000/10000 [00:07<00:00, 1330.18it/s]\n",
            "  2%|▏         | 150/10000 [00:00<00:06, 1491.85it/s]"
          ],
          "name": "stderr"
        },
        {
          "output_type": "stream",
          "text": [
            "N= 7  alpha= 0.30  Episode_length= 40.9806\n"
          ],
          "name": "stdout"
        },
        {
          "output_type": "stream",
          "text": [
            "100%|██████████| 10000/10000 [00:07<00:00, 1347.32it/s]\n",
            "  1%|▏         | 143/10000 [00:00<00:06, 1426.56it/s]"
          ],
          "name": "stderr"
        },
        {
          "output_type": "stream",
          "text": [
            "N= 7  alpha= 0.40  Episode_length= 40.5132\n"
          ],
          "name": "stdout"
        },
        {
          "output_type": "stream",
          "text": [
            "100%|██████████| 10000/10000 [00:07<00:00, 1357.80it/s]\n",
            "  1%|▏         | 139/10000 [00:00<00:07, 1388.98it/s]"
          ],
          "name": "stderr"
        },
        {
          "output_type": "stream",
          "text": [
            "N= 7  alpha= 0.50  Episode_length= 39.9609\n"
          ],
          "name": "stdout"
        },
        {
          "output_type": "stream",
          "text": [
            "100%|██████████| 10000/10000 [00:07<00:00, 1341.60it/s]\n",
            "  1%|▏         | 140/10000 [00:00<00:07, 1394.57it/s]"
          ],
          "name": "stderr"
        },
        {
          "output_type": "stream",
          "text": [
            "N= 7  alpha= 0.60  Episode_length= 40.2635\n"
          ],
          "name": "stdout"
        },
        {
          "output_type": "stream",
          "text": [
            "100%|██████████| 10000/10000 [00:07<00:00, 1367.54it/s]\n",
            "  1%|          | 98/10000 [00:00<00:10, 975.92it/s]"
          ],
          "name": "stderr"
        },
        {
          "output_type": "stream",
          "text": [
            "N= 7  alpha= 0.70  Episode_length= 39.7036\n"
          ],
          "name": "stdout"
        },
        {
          "output_type": "stream",
          "text": [
            "100%|██████████| 10000/10000 [00:07<00:00, 1381.20it/s]\n",
            "  1%|▏         | 133/10000 [00:00<00:07, 1327.62it/s]"
          ],
          "name": "stderr"
        },
        {
          "output_type": "stream",
          "text": [
            "N= 7  alpha= 0.80  Episode_length= 40.129\n"
          ],
          "name": "stdout"
        },
        {
          "output_type": "stream",
          "text": [
            "100%|██████████| 10000/10000 [00:07<00:00, 1351.61it/s]\n",
            "  2%|▏         | 153/10000 [00:00<00:06, 1526.87it/s]"
          ],
          "name": "stderr"
        },
        {
          "output_type": "stream",
          "text": [
            "N= 7  alpha= 0.90  Episode_length= 39.8989\n"
          ],
          "name": "stdout"
        },
        {
          "output_type": "stream",
          "text": [
            "100%|██████████| 10000/10000 [00:07<00:00, 1343.49it/s]\n",
            "  1%|▏         | 138/10000 [00:00<00:07, 1373.08it/s]"
          ],
          "name": "stderr"
        },
        {
          "output_type": "stream",
          "text": [
            "N= 7  alpha= 1.00  Episode_length= 40.0513\n"
          ],
          "name": "stdout"
        },
        {
          "output_type": "stream",
          "text": [
            "100%|██████████| 10000/10000 [00:07<00:00, 1318.29it/s]\n",
            "  2%|▏         | 152/10000 [00:00<00:06, 1500.91it/s]"
          ],
          "name": "stderr"
        },
        {
          "output_type": "stream",
          "text": [
            "N= 8  alpha= 0.10  Episode_length= 40.5131\n"
          ],
          "name": "stdout"
        },
        {
          "output_type": "stream",
          "text": [
            "100%|██████████| 10000/10000 [00:07<00:00, 1354.91it/s]\n",
            "  1%|▏         | 143/10000 [00:00<00:06, 1408.72it/s]"
          ],
          "name": "stderr"
        },
        {
          "output_type": "stream",
          "text": [
            "N= 8  alpha= 0.20  Episode_length= 40.6891\n"
          ],
          "name": "stdout"
        },
        {
          "output_type": "stream",
          "text": [
            "100%|██████████| 10000/10000 [00:07<00:00, 1335.75it/s]\n",
            "  2%|▏         | 155/10000 [00:00<00:06, 1549.61it/s]"
          ],
          "name": "stderr"
        },
        {
          "output_type": "stream",
          "text": [
            "N= 8  alpha= 0.30  Episode_length= 41.0024\n"
          ],
          "name": "stdout"
        },
        {
          "output_type": "stream",
          "text": [
            "100%|██████████| 10000/10000 [00:07<00:00, 1349.74it/s]\n",
            "  1%|▏         | 142/10000 [00:00<00:06, 1419.79it/s]"
          ],
          "name": "stderr"
        },
        {
          "output_type": "stream",
          "text": [
            "N= 8  alpha= 0.40  Episode_length= 40.1969\n"
          ],
          "name": "stdout"
        },
        {
          "output_type": "stream",
          "text": [
            "100%|██████████| 10000/10000 [00:07<00:00, 1369.93it/s]\n",
            "  2%|▏         | 153/10000 [00:00<00:06, 1523.43it/s]"
          ],
          "name": "stderr"
        },
        {
          "output_type": "stream",
          "text": [
            "N= 8  alpha= 0.50  Episode_length= 39.7507\n"
          ],
          "name": "stdout"
        },
        {
          "output_type": "stream",
          "text": [
            "100%|██████████| 10000/10000 [00:07<00:00, 1323.81it/s]\n",
            "  1%|▏         | 134/10000 [00:00<00:07, 1324.01it/s]"
          ],
          "name": "stderr"
        },
        {
          "output_type": "stream",
          "text": [
            "N= 8  alpha= 0.60  Episode_length= 40.2529\n"
          ],
          "name": "stdout"
        },
        {
          "output_type": "stream",
          "text": [
            "100%|██████████| 10000/10000 [00:07<00:00, 1355.01it/s]\n",
            "  1%|▏         | 141/10000 [00:00<00:07, 1406.99it/s]"
          ],
          "name": "stderr"
        },
        {
          "output_type": "stream",
          "text": [
            "N= 8  alpha= 0.70  Episode_length= 39.4811\n"
          ],
          "name": "stdout"
        },
        {
          "output_type": "stream",
          "text": [
            "100%|██████████| 10000/10000 [00:07<00:00, 1345.13it/s]\n",
            "  1%|▏         | 136/10000 [00:00<00:07, 1359.87it/s]"
          ],
          "name": "stderr"
        },
        {
          "output_type": "stream",
          "text": [
            "N= 8  alpha= 0.80  Episode_length= 39.858\n"
          ],
          "name": "stdout"
        },
        {
          "output_type": "stream",
          "text": [
            "100%|██████████| 10000/10000 [00:07<00:00, 1402.83it/s]\n",
            "  2%|▏         | 159/10000 [00:00<00:06, 1586.63it/s]"
          ],
          "name": "stderr"
        },
        {
          "output_type": "stream",
          "text": [
            "N= 8  alpha= 0.90  Episode_length= 39.1445\n"
          ],
          "name": "stdout"
        },
        {
          "output_type": "stream",
          "text": [
            "100%|██████████| 10000/10000 [00:07<00:00, 1350.67it/s]\n",
            "  2%|▏         | 150/10000 [00:00<00:06, 1489.32it/s]"
          ],
          "name": "stderr"
        },
        {
          "output_type": "stream",
          "text": [
            "N= 8  alpha= 1.00  Episode_length= 39.6012\n"
          ],
          "name": "stdout"
        },
        {
          "output_type": "stream",
          "text": [
            "100%|██████████| 10000/10000 [00:07<00:00, 1319.89it/s]\n",
            "  1%|▏         | 138/10000 [00:00<00:07, 1370.62it/s]"
          ],
          "name": "stderr"
        },
        {
          "output_type": "stream",
          "text": [
            "N= 9  alpha= 0.10  Episode_length= 40.5931\n"
          ],
          "name": "stdout"
        },
        {
          "output_type": "stream",
          "text": [
            "100%|██████████| 10000/10000 [00:07<00:00, 1335.05it/s]\n",
            "  1%|▏         | 138/10000 [00:00<00:07, 1376.95it/s]"
          ],
          "name": "stderr"
        },
        {
          "output_type": "stream",
          "text": [
            "N= 9  alpha= 0.20  Episode_length= 39.5946\n"
          ],
          "name": "stdout"
        },
        {
          "output_type": "stream",
          "text": [
            "100%|██████████| 10000/10000 [00:07<00:00, 1340.63it/s]\n",
            "  1%|▏         | 133/10000 [00:00<00:07, 1322.21it/s]"
          ],
          "name": "stderr"
        },
        {
          "output_type": "stream",
          "text": [
            "N= 9  alpha= 0.30  Episode_length= 40.0843\n"
          ],
          "name": "stdout"
        },
        {
          "output_type": "stream",
          "text": [
            "100%|██████████| 10000/10000 [00:07<00:00, 1338.10it/s]\n",
            "  3%|▎         | 286/10000 [00:00<00:06, 1450.65it/s]"
          ],
          "name": "stderr"
        },
        {
          "output_type": "stream",
          "text": [
            "N= 9  alpha= 0.40  Episode_length= 40.1319\n"
          ],
          "name": "stdout"
        },
        {
          "output_type": "stream",
          "text": [
            "100%|██████████| 10000/10000 [00:07<00:00, 1331.96it/s]\n",
            "  1%|▏         | 148/10000 [00:00<00:06, 1475.50it/s]"
          ],
          "name": "stderr"
        },
        {
          "output_type": "stream",
          "text": [
            "N= 9  alpha= 0.50  Episode_length= 39.8232\n"
          ],
          "name": "stdout"
        },
        {
          "output_type": "stream",
          "text": [
            "100%|██████████| 10000/10000 [00:07<00:00, 1332.44it/s]\n",
            "  2%|▏         | 150/10000 [00:00<00:06, 1494.85it/s]"
          ],
          "name": "stderr"
        },
        {
          "output_type": "stream",
          "text": [
            "N= 9  alpha= 0.60  Episode_length= 39.9711\n"
          ],
          "name": "stdout"
        },
        {
          "output_type": "stream",
          "text": [
            "100%|██████████| 10000/10000 [00:07<00:00, 1348.14it/s]\n",
            "  2%|▏         | 150/10000 [00:00<00:06, 1498.99it/s]"
          ],
          "name": "stderr"
        },
        {
          "output_type": "stream",
          "text": [
            "N= 9  alpha= 0.70  Episode_length= 39.4906\n"
          ],
          "name": "stdout"
        },
        {
          "output_type": "stream",
          "text": [
            "100%|██████████| 10000/10000 [00:07<00:00, 1360.26it/s]\n",
            "  2%|▏         | 158/10000 [00:00<00:06, 1576.92it/s]"
          ],
          "name": "stderr"
        },
        {
          "output_type": "stream",
          "text": [
            "N= 9  alpha= 0.80  Episode_length= 39.5757\n"
          ],
          "name": "stdout"
        },
        {
          "output_type": "stream",
          "text": [
            "100%|██████████| 10000/10000 [00:07<00:00, 1356.97it/s]\n",
            "  2%|▏         | 157/10000 [00:00<00:06, 1557.41it/s]"
          ],
          "name": "stderr"
        },
        {
          "output_type": "stream",
          "text": [
            "N= 9  alpha= 0.90  Episode_length= 40.0455\n"
          ],
          "name": "stdout"
        },
        {
          "output_type": "stream",
          "text": [
            "100%|██████████| 10000/10000 [00:07<00:00, 1357.56it/s]"
          ],
          "name": "stderr"
        },
        {
          "output_type": "stream",
          "text": [
            "N= 9  alpha= 1.00  Episode_length= 39.6846\n"
          ],
          "name": "stdout"
        },
        {
          "output_type": "stream",
          "text": [
            "\n"
          ],
          "name": "stderr"
        }
      ]
    },
    {
      "cell_type": "code",
      "metadata": {
        "id": "Q0dubr9iC169",
        "colab_type": "code",
        "colab": {
          "base_uri": "https://localhost:8080/",
          "height": 265
        },
        "outputId": "ec23261e-9feb-45dd-e23c-4dffd5c0b8e3"
      },
      "source": [
        "%matplotlib inline\n",
        "for n,alpha,avg_ep in lst:\n",
        "  plt.plot(n,avg_ep,'.-',label=\"n={}\".format(n))\n",
        "\n",
        "plt.show()"
      ],
      "execution_count": 36,
      "outputs": [
        {
          "output_type": "display_data",
          "data": {
            "image/png": "[encoded data removed]",
            "text/plain": [
              "<Figure size 432x288 with 1 Axes>"
            ]
          },
          "metadata": {
            "tags": [],
            "needs_background": "light"
          }
        }
      ]
    },
    {
      "cell_type": "code",
      "metadata": {
        "id": "IQ7R1w94UThh",
        "colab_type": "code",
        "colab": {}
      },
      "source": [
        "L = []\n",
        "lst1 = [(alpha,ep) for _,alpha,ep in lst]\n",
        "for i in range(10):\n",
        "  L.append(lst1[i*10:(i+1)*10])\n"
      ],
      "execution_count": 0,
      "outputs": []
    },
    {
      "cell_type": "code",
      "metadata": {
        "id": "HJX3a4dQaFtq",
        "colab_type": "code",
        "colab": {
          "base_uri": "https://localhost:8080/",
          "height": 513
        },
        "outputId": "ac60ed0c-b693-4759-c408-f72aff56d370"
      },
      "source": [
        "%matplotlib inline\n",
        "plt.figure(figsize=(10,8))\n",
        "n=1\n",
        "for l in L:\n",
        "  x = []\n",
        "  y = []\n",
        "  for alpha,ep in l:\n",
        "    x.append(alpha)\n",
        "    y.append(ep)\n",
        "\n",
        "  plt.plot(x,y,'o-',label=\"n={}\".format(n))\n",
        "  n +=1\n",
        "\n",
        "plt.title(\"Performance evaluation of n-step Sarsa\")\n",
        "plt.xlabel(\"alpha\")\n",
        "plt.ylabel(\"Average episode length\")\n",
        "plt.legend()\n",
        "plt.show()\n",
        "  \n"
      ],
      "execution_count": 52,
      "outputs": [
        {
          "output_type": "display_data",
          "data": {
            "image/png": "[encoded data removed]",
            "text/plain": [
              "<Figure size 720x576 with 1 Axes>"
            ]
          },
          "metadata": {
            "tags": [],
            "needs_background": "light"
          }
        }
      ]
    },
    {
      "cell_type": "code",
      "metadata": {
        "id": "ZyyNTB5QcMzf",
        "colab_type": "code",
        "colab": {}
      },
      "source": [
        ""
      ],
      "execution_count": 0,
      "outputs": []
    },
    {
      "cell_type": "code",
      "metadata": {
        "id": "uhLs_mBbcon5",
        "colab_type": "code",
        "colab": {}
      },
      "source": [
        ""
      ],
      "execution_count": 0,
      "outputs": []
    }
  ]
}